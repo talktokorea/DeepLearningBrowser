{
  "nbformat": 4,
  "nbformat_minor": 0,
  "metadata": {
    "colab": {
      "name": "myapp2.ipynb",
      "private_outputs": true,
      "provenance": [],
      "mount_file_id": "1KutCRTzoNmYVnXy4dJVn06YCaVlqtHn8",
      "authorship_tag": "ABX9TyNqsosCgo5+mR+/bPQUG45T",
      "include_colab_link": true
    },
    "kernelspec": {
      "name": "python3",
      "display_name": "Python 3"
    },
    "language_info": {
      "name": "python"
    },
    "accelerator": "GPU",
    "gpuClass": "standard"
  },
  "cells": [
    {
      "cell_type": "markdown",
      "metadata": {
        "id": "view-in-github",
        "colab_type": "text"
      },
      "source": [
        "<a href=\"https://colab.research.google.com/github/talktokorea/DeepLearningBrowser/blob/master/myapp2.ipynb\" target=\"_parent\"><img src=\"https://colab.research.google.com/assets/colab-badge.svg\" alt=\"Open In Colab\"/></a>"
      ]
    },
    {
      "cell_type": "code",
      "source": [
        "import tensorflow as tf\n",
        "mnist = tf.keras.datasets.mnist\n",
        "(x_train,y_train),(x_test,y_test)=mnist.load_data()"
      ],
      "metadata": {
        "id": "tSCvqeYpIuUn"
      },
      "execution_count": null,
      "outputs": []
    },
    {
      "cell_type": "code",
      "source": [
        "x_train,x_test=x_train/255.0,x_test/255.0"
      ],
      "metadata": {
        "id": "HWYv1Ze-JrKU"
      },
      "execution_count": null,
      "outputs": []
    },
    {
      "cell_type": "code",
      "source": [
        "mlp_model = tf.keras.models.Sequential([ \n",
        "              tf.keras.layers.Flatten(input_shape=(28,28)), \n",
        "              tf.keras.layers.Dense(128,activation='relu'),\n",
        "              tf.keras.layers.Dense(10,activation='softmax')\n",
        "            ])"
      ],
      "metadata": {
        "id": "1ioe1KE6Kd5t"
      },
      "execution_count": null,
      "outputs": []
    },
    {
      "cell_type": "code",
      "source": [
        "mlp_model.compile(optimizer='adam',\n",
        "                  loss='sparse_categorical_crossentropy',\n",
        "                  metrics=['accuracy'])"
      ],
      "metadata": {
        "id": "h6CnI5CSKlKb"
      },
      "execution_count": null,
      "outputs": []
    },
    {
      "cell_type": "code",
      "source": [
        "mlp_model.summary()"
      ],
      "metadata": {
        "id": "X2OW5DfFaWgx"
      },
      "execution_count": null,
      "outputs": []
    },
    {
      "cell_type": "code",
      "source": [
        "mlp_model.fit(x_train, y_train, epochs=100)"
      ],
      "metadata": {
        "id": "agKx6cu7aeER"
      },
      "execution_count": null,
      "outputs": []
    },
    {
      "cell_type": "code",
      "source": [
        "mlp_model.evaluate(x_test, y_test, verbose=2)"
      ],
      "metadata": {
        "id": "_lZte48JbGOT"
      },
      "execution_count": null,
      "outputs": []
    }
  ]
}