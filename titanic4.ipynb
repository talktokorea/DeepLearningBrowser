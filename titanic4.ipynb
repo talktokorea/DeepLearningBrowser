{
  "nbformat": 4,
  "nbformat_minor": 0,
  "metadata": {
    "colab": {
      "name": "titanic4.ipynb",
      "private_outputs": true,
      "provenance": [],
      "collapsed_sections": [],
      "authorship_tag": "ABX9TyNtvs2opta9VhkAErGm/MYE",
      "include_colab_link": true
    },
    "kernelspec": {
      "name": "python3",
      "display_name": "Python 3"
    },
    "language_info": {
      "name": "python"
    }
  },
  "cells": [
    {
      "cell_type": "markdown",
      "metadata": {
        "id": "view-in-github",
        "colab_type": "text"
      },
      "source": [
        "<a href=\"https://colab.research.google.com/github/talktokorea/DeepLearningBrowser/blob/master/titanic4.ipynb\" target=\"_parent\"><img src=\"https://colab.research.google.com/assets/colab-badge.svg\" alt=\"Open In Colab\"/></a>"
      ]
    },
    {
      "cell_type": "code",
      "execution_count": null,
      "metadata": {
        "id": "60KMUT0y1maC"
      },
      "outputs": [],
      "source": [
        "import tensorflow as tf\n",
        "import numpy as np\n",
        "import pandas as pd\n",
        "\n",
        "from google.colab import files\n",
        "from google.colab import drive\n",
        "\n",
        "files.upload()\n",
        "!mkdir ~/.kaggle\n",
        "!mv kaggle.json ~/.kaggle/\n",
        "!chmod 600 ~/.kaggle/*\n",
        "drive.mount('/content/gdrive')"
      ]
    },
    {
      "cell_type": "code",
      "source": [
        "train_data = pd.read_csv('./gdrive/MyDrive/Colab Notebooks/data/train.csv')\n",
        "train_data.info()"
      ],
      "metadata": {
        "id": "uMZzx2Rs5JYN"
      },
      "execution_count": null,
      "outputs": []
    },
    {
      "cell_type": "code",
      "source": [
        "test_data = pd.read_csv('./gdrive/MyDrive/Colab Notebooks/data/test.csv')\n",
        "test_data.info()"
      ],
      "metadata": {
        "id": "7nmiOSdA8mcf"
      },
      "execution_count": null,
      "outputs": []
    },
    {
      "cell_type": "code",
      "source": [
        "# 방법1  학습용 X 데이터를 NP 배열 로우=891, 컬럼=(0,7)로 작성\n",
        "from tensorflow.keras.utils import to_categorical \n",
        "#train_data_np = np.zeros([891,8])\n",
        "train_data_np = np.zeros([train_data.shape[0],8])\n",
        "\n",
        "sex_num = np.zeros(train_data_np.shape[0])\n",
        "sex_num[np.array(train_data['Sex']=='female')]=1\n",
        "train_data_np[:,0:2] = to_categorical(sex_num)  # 남자 0, 여자 1로 구성된 배열을 0 1, 1 0 으로 변경\n",
        "\n",
        "train_data_np[:,2:5] = to_categorical(train_data['Pclass'].to_numpy()-1)  # 1,2,3을 0,1,2로 변경\n",
        "train_data_np[:,5] = train_data['Age']/train_data['Age'].max()  # 80  \n",
        "train_data_np[:,6] = train_data['SibSp']/train_data['SibSp'].max() # 10\n",
        "train_data_np[:,7] = train_data['Parch']/train_data['Parch'].max()  # 10\n",
        "train_data_np[np.isnan(train_data_np)] = train_data['Age'].mean()/train_data['Age'].max()  # 30/80\n",
        "train_data_np_y = to_categorical(train_data['Survived'])\n",
        "\n",
        "print(train_data_np[0:5,:])"
      ],
      "metadata": {
        "id": "0KeSr-GQ_0Zn"
      },
      "execution_count": null,
      "outputs": []
    },
    {
      "cell_type": "code",
      "source": [
        "from keras.models import Sequential\n",
        "from keras import layers\n",
        "from keras import optimizers\n",
        "model = Sequential()\n",
        "model.add(layers.Dense(units=8, activation='relu'))\n",
        "model.add(layers.Dense(units=16, activation='relu'))\n",
        "model.add(layers.Dense(units=32, activation='relu'))\n",
        "model.add(layers.Dense(units=64, activation='relu'))\n",
        "model.add(layers.Dense(units=2, activation='softmax'))\n",
        "model.compile(loss='categorical_crossentropy', optimizer=tf.keras.optimizers.Adam(learning_rate=0.001), metrics=['accuracy'])"
      ],
      "metadata": {
        "id": "cMIhpt17DGEO"
      },
      "execution_count": null,
      "outputs": []
    },
    {
      "cell_type": "code",
      "source": [
        "hist = model.fit(train_data_np,train_data_np_y,epochs= 400, batch_size=128, validation_split=0.3)"
      ],
      "metadata": {
        "id": "jIlUvfpAD1VD"
      },
      "execution_count": null,
      "outputs": []
    },
    {
      "cell_type": "code",
      "source": [
        "import matplotlib.pyplot as plt\n",
        "\n",
        "def drawHistory(hist):\n",
        "  fig = plt.figure(figsize=(15,10)) # 10x15 크기의 figure 생성\n",
        "  loss_ax = plt.gca()        # figure의 기본 축 가져오기\n",
        "  acc_ax = loss_ax.twinx()      # 축을 1개 더 추가\n",
        "\n",
        "  #손실 변화 양상을 그래프로 표시\n",
        "  loss_ax.plot(hist.history['loss'], 'y', label='train loss')\n",
        "  loss_ax.plot(hist.history['val_loss'], 'r', label='val loss')\n",
        "  loss_ax.set_xlabel('epoch')\n",
        "  loss_ax.set_ylabel('loss')\n",
        "  loss_ax.legend(loc='lower left')\n",
        "\n",
        "  #정확도 변화 양상을 그래프로 표시\n",
        "  acc_ax.plot(hist.history['accuracy'], 'b', label='train acc')\n",
        "  acc_ax.plot(hist.history['val_accuracy'], 'g', label='val acc')\n",
        "  acc_ax.set_ylabel('accuracy')\n",
        "  acc_ax.legend(loc='upper left')\n",
        "\n",
        "  plt.show() #그래프를 화면에 그림\n",
        "\n",
        "drawHistory(hist) #학습 경과를 그래프로 그리는 함수 호출"
      ],
      "metadata": {
        "id": "fg4iffiNEl72"
      },
      "execution_count": null,
      "outputs": []
    },
    {
      "cell_type": "code",
      "source": [
        "# 방법1  테스트용 X 데이터를 NP 배열 로우=, 컬럼=( )로 작성\n",
        "from tensorflow.keras.utils import to_categorical \n",
        "test_data_np = np.zeros([test_data.shape[0],8])\n",
        "\n",
        "sex_num_test = np.zeros(test_data_np.shape[0])\n",
        "sex_num_test[np.array(test_data['Sex']=='female')]=1\n",
        "test_data_np[:,0:2] = to_categorical(sex_num_test)  # 남자 0, 여자 1로 구성된 배열을 0 1, 1 0 으로 변경\n",
        "\n",
        "test_data_np[:,2:5] = to_categorical(test_data['Pclass'].to_numpy()-1)  # 1,2,3을 0,1,2로 변경\n",
        "test_data_np[:,5] = test_data['Age']/test_data['Age'].max()  # 80  \n",
        "test_data_np[:,6] = test_data['SibSp']/test_data['SibSp'].max() # 10\n",
        "test_data_np[:,7] = test_data['Parch']/test_data['Parch'].max()  # 10\n",
        "test_data_np[np.isnan(test_data_np)] = test_data['Age'].mean()/test_data['Age'].max()  # 30/80\n",
        "print(test_data_np[0:5,:])"
      ],
      "metadata": {
        "id": "WGL2UW87GFQE"
      },
      "execution_count": null,
      "outputs": []
    },
    {
      "cell_type": "code",
      "source": [
        "o = model.predict(test_data_np)\n",
        "o = np.argmax(o,-1)  # 두개중 큰값을 이용한 0,1 설정\n",
        "print(o)"
      ],
      "metadata": {
        "id": "jVTl3gm6HBi3"
      },
      "execution_count": null,
      "outputs": []
    },
    {
      "cell_type": "code",
      "source": [
        "answer = np.zeros([418,2])\n",
        "answer[:,0] = test_data['PassengerId']\n",
        "answer[:,1] = o\n",
        "df_answer = pd.DataFrame(answer) # 배열 answer를 판다스 라이브러리의 DataFrame \n",
        "                                 # 형식으로 변환하고, df_frame 변수에 저장한다.\n",
        "df_answer.columns =['PassengerID','Survived']       # 각 열의 제목을 지정한다.\n",
        "df_answer = df_answer.astype('int32')               # 데이터를 정수형으로 바꾼다.\n",
        "df_answer.to_csv('test_pridict.csv', index = False) # 결과를 csv 파일로 저장한다. \n",
        "                                                    # (index는 제외한다)"
      ],
      "metadata": {
        "id": "DskY5OfSHeTd"
      },
      "execution_count": null,
      "outputs": []
    },
    {
      "cell_type": "code",
      "source": [
        "!kaggle competitions submit -c titanic -f 'test_pridict.csv' -m \"Message\""
      ],
      "metadata": {
        "id": "zioADfDLHjBz"
      },
      "execution_count": null,
      "outputs": []
    }
  ]
}