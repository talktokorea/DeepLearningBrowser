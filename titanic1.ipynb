{
  "nbformat": 4,
  "nbformat_minor": 0,
  "metadata": {
    "colab": {
      "name": "titanic1.ipynb",
      "private_outputs": true,
      "provenance": [],
      "authorship_tag": "ABX9TyMZ5EuYcQPVqoThJZOn2JSh",
      "include_colab_link": true
    },
    "kernelspec": {
      "name": "python3",
      "display_name": "Python 3"
    },
    "language_info": {
      "name": "python"
    },
    "accelerator": "GPU"
  },
  "cells": [
    {
      "cell_type": "markdown",
      "metadata": {
        "id": "view-in-github",
        "colab_type": "text"
      },
      "source": [
        "<a href=\"https://colab.research.google.com/github/talktokorea/DeepLearningBrowser/blob/master/titanic1.ipynb\" target=\"_parent\"><img src=\"https://colab.research.google.com/assets/colab-badge.svg\" alt=\"Open In Colab\"/></a>"
      ]
    },
    {
      "cell_type": "code",
      "source": [
        "# 0. 판다스 라이브러리 임포트\n",
        "import  pandas  as  pd\n",
        "# 1. github 데이터 읽기\n",
        "path = \"https://raw.githubusercontent.com/talktokorea/storage/master/train.csv\"\n",
        "titanic = pd.read_csv(path)\n",
        "# 2. 데이터 모양/속성 확인      (891,12)\n",
        "print(titanic.shape)      \n",
        "# 3. 컬럼명 확인 Index(['PassengerId', 'Survived', 'Pclass', 'Name', 'Sex', 'Age', 'SibSp','Parch', 'Ticket', 'Fare', 'Cabin', 'Embarked'],dtype='object’) \n",
        "print(titanic.columns)\n",
        "# 4. 원핫인코딩  대상 = Pclass(int64), Sex=Object(OK)\n",
        "print(titanic.dtypes)      # 타입 확인\n",
        "titanic['Pclass'] = titanic['Pclass'].astype('category')\n",
        "print(titanic.dtypes)      # 타입 확인\n",
        "ydata = titanic[['Survived']]\n",
        "xdata = titanic[[\"Pclass\",\"Sex\",\"Age\",\"SibSp\",\"Parch\"]]\n",
        "xdata = pd.get_dummies(xdata)\n",
        "print(xdata)      # 원핫인코딩 확인\n",
        "print(xdata.shape,ydata.shape)\n",
        "# 4. 결측치 확인\n",
        "xdata.isna().sum()    # 결측치 확인\n",
        "xdata.tail()             # 눈으로 확인\n",
        "mean=xdata['Age'].mean()    #평균값 계산\n",
        "xdata['Age']=xdata['Age'].fillna(mean) #평균값으로 결측치대체\n",
        "# 5. 마지막 데이터 5개 확인                       마지막 데이터 5개\n",
        "xdata.tail()"
      ],
      "metadata": {
        "id": "pwM41CB77Ydi"
      },
      "execution_count": null,
      "outputs": []
    },
    {
      "cell_type": "code",
      "source": [
        "import tensorflow as tf\n",
        "# 4. 배치 정규화 모델 생성\n",
        "X = tf.keras.layers.Input(shape=[8])   #독립변수갯수=4\n",
        "\n",
        "H=tf.keras.layers.Dense(8)(X)\n",
        "H=tf.keras.layers.BatchNormalization()(H)     # 배치정규화 추가\n",
        "H=tf.keras.layers.Activation('swish')(H)\n",
        "\n",
        "H=tf.keras.layers.Dense(16)(H)\n",
        "H=tf.keras.layers.BatchNormalization()(H)     # 배치정규화 추가\n",
        "H=tf.keras.layers.Activation('swish')(H)\n",
        "\n",
        "H=tf.keras.layers.Dense(32)(H)\n",
        "H=tf.keras.layers.BatchNormalization()(H)     # 배치정규화 추가\n",
        "H=tf.keras.layers.Activation('swish')(H)\n",
        "\n",
        "H=tf.keras.layers.Dense(64)(H)\n",
        "H=tf.keras.layers.BatchNormalization()(H)     # 배치정규화 추가\n",
        "H=tf.keras.layers.Activation('swish')(H)\n",
        "\n",
        "Y = tf.keras.layers.Dense(2,activation='softmax')(H)  #종속변수갯수=2\n",
        "model = tf.keras.models.Model(X,Y)\n",
        "model.compile(loss='sparse_categorical_crossentropy', optimizer=tf.keras.optimizers.Adam(learning_rate=0.001), metrics=['accuracy'])\n",
        "#model.compile(loss='sparse_categorical_crossentropy', metrics=['accuracy'])\n",
        "\n"
      ],
      "metadata": {
        "id": "xgdHhRZf71Ab"
      },
      "execution_count": null,
      "outputs": []
    },
    {
      "cell_type": "code",
      "source": [
        "print(xdata.tail())\n",
        "print(ydata.tail())\n",
        "\n",
        "# 5. 모델 학습\n",
        "#hist = model.fit(xdata,ydata,epochs=400,verbose=0)   #반복횟수=400\n",
        "#model.fit(xdata,ydata,epochs=1,verbose=1)   #반복횟수=1\n",
        "hist = model.fit(xdata,ydata,epochs= 400, batch_size=128, validation_split=0.3)\n"
      ],
      "metadata": {
        "id": "4TQF2r2579-d"
      },
      "execution_count": null,
      "outputs": []
    },
    {
      "cell_type": "code",
      "source": [
        ""
      ],
      "metadata": {
        "id": "vd5JOp0lAI_G"
      },
      "execution_count": null,
      "outputs": []
    },
    {
      "cell_type": "code",
      "source": [
        "import matplotlib.pyplot as plt\n",
        "\n",
        "def drawHistory(hist):\n",
        "  fig = plt.figure(figsize=(15,10)) # 10x15 크기의 figure 생성\n",
        "  loss_ax = plt.gca()        # figure의 기본 축 가져오기\n",
        "  acc_ax = loss_ax.twinx()      # 축을 1개 더 추가\n",
        "\n",
        "  #손실 변화 양상을 그래프로 표시\n",
        "  loss_ax.plot(hist.history['loss'], 'y', label='train loss')\n",
        "  loss_ax.plot(hist.history['val_loss'], 'r', label='val loss')\n",
        "  loss_ax.set_xlabel('epoch')\n",
        "  loss_ax.set_ylabel('loss')\n",
        "  loss_ax.legend(loc='lower left')\n",
        "\n",
        "  #정확도 변화 양상을 그래프로 표시\n",
        "  acc_ax.plot(hist.history['accuracy'], 'b', label='train acc')\n",
        "  acc_ax.plot(hist.history['val_accuracy'], 'g', label='val acc')\n",
        "  acc_ax.set_ylabel('accuracy')\n",
        "  acc_ax.legend(loc='upper left')\n",
        "\n",
        "  plt.show() #그래프를 화면에 그림\n",
        "\n",
        "drawHistory(hist) #학습 경과를 그래프로 그리는 함수 호출"
      ],
      "metadata": {
        "id": "JoTvXEgL9lrk"
      },
      "execution_count": null,
      "outputs": []
    },
    {
      "cell_type": "code",
      "source": [
        ""
      ],
      "metadata": {
        "id": "PfxlB51kAnss"
      },
      "execution_count": null,
      "outputs": []
    }
  ]
}